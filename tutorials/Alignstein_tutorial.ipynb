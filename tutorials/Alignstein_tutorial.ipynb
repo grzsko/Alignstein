{
 "cells": [
  {
   "cell_type": "markdown",
   "id": "8f2b245d",
   "metadata": {},
   "source": [
    "# Tutorial of Aligstein usage\n",
    "\n",
    "In this tutorial we show how to use the Alignstein package by reproducing the biomarkes detection experiment from original paper.\n",
    "\n",
    "Start with importing all needed packages"
   ]
  },
  {
   "cell_type": "code",
   "execution_count": null,
   "id": "9ab81389",
   "metadata": {
    "ExecuteTime": {
     "end_time": "2022-06-15T10:08:39.112554Z",
     "start_time": "2022-06-15T10:08:36.629313Z"
    }
   },
   "outputs": [],
   "source": [
    "import gc\n",
    "\n",
    "import numpy as np\n",
    "\n",
    "from Alignstein import (gather_mids, precluster_mids,\n",
    "                        big_clusters_to_clusters, find_consensus_features,\n",
    "                        detect_features_from_file, features_to_weight)"
   ]
  },
  {
   "cell_type": "markdown",
   "id": "88eed5df",
   "metadata": {},
   "source": [
    "We start with obtaining datasets to be analysed. Create `data` directory and download chromatograms from [PRIDE repository](https://www.ebi.ac.uk/pride/archive/projects/PXD013805) as below. It may took some time, thus it is commented.\n",
    "\n",
    "Files enumerated from 38 to 39 represent replicates of experiment for $0 \\mu g/L$, 40-42 represent $5 \\mu g/L$, 43-45 represent $50 \\mu g/L$, 46-48 represent $100 \\mu g/L$."
   ]
  },
  {
   "cell_type": "code",
   "execution_count": null,
   "id": "cdac913c",
   "metadata": {
    "ExecuteTime": {
     "end_time": "2022-05-23T15:46:40.994078Z",
     "start_time": "2022-05-23T15:46:40.981539Z"
    }
   },
   "outputs": [],
   "source": [
    "# !mkdir data\n",
    "# !cd data\n",
    "# !wget https://ftp.ebi.ac.uk/pride-archive/2019/07/PXD013805/20171124VS37.mzML\n",
    "# !wget https://ftp.ebi.ac.uk/pride-archive/2019/07/PXD013805/20171124VS38.mzML\n",
    "# !wget https://ftp.ebi.ac.uk/pride-archive/2019/07/PXD013805/20171124VS39.mzML\n",
    "# !wget https://ftp.ebi.ac.uk/pride-archive/2019/07/PXD013805/20171124VS40.mzML\n",
    "# !wget https://ftp.ebi.ac.uk/pride-archive/2019/07/PXD013805/20171124VS41.mzML\n",
    "# !wget https://ftp.ebi.ac.uk/pride-archive/2019/07/PXD013805/20171124VS42.mzML\n",
    "# !wget https://ftp.ebi.ac.uk/pride-archive/2019/07/PXD013805/20171124VS43.mzML\n",
    "# !wget https://ftp.ebi.ac.uk/pride-archive/2019/07/PXD013805/20171124VS44.mzML\n",
    "# !wget https://ftp.ebi.ac.uk/pride-archive/2019/07/PXD013805/20171124VS42.mzML\n",
    "# !wget https://ftp.ebi.ac.uk/pride-archive/2019/07/PXD013805/20171124VS43.mzML\n",
    "# !wget https://ftp.ebi.ac.uk/pride-archive/2019/07/PXD013805/20171124VS44.mzML\n",
    "# !wget https://ftp.ebi.ac.uk/pride-archive/2019/07/PXD013805/20171124VS45.mzML\n",
    "# !wget https://ftp.ebi.ac.uk/pride-archive/2019/07/PXD013805/20171124VS46.mzML\n",
    "# !wget https://ftp.ebi.ac.uk/pride-archive/2019/07/PXD013805/20171124VS47.mzML\n",
    "# !wget https://ftp.ebi.ac.uk/pride-archive/2019/07/PXD013805/20171124VS48.mzML"
   ]
  },
  {
   "cell_type": "markdown",
   "id": "456125c9",
   "metadata": {},
   "source": [
    "We perform analysis for replicates of $0 \\mu g/L$ experiment, but it can easily reproduced for the rest experiments.\n",
    "\n",
    "Thus, prepare filenames, which will usable for us."
   ]
  },
  {
   "cell_type": "code",
   "execution_count": null,
   "id": "c86c2dbc",
   "metadata": {
    "ExecuteTime": {
     "end_time": "2022-05-23T15:51:43.791846Z",
     "start_time": "2022-05-23T15:51:43.764407Z"
    }
   },
   "outputs": [],
   "source": [
    "filenames = [\n",
    "    \"data/20171124VS37.mzML\",\n",
    "    \"data/20171124VS38.mzML\",\n",
    "    \"data/20171124VS39.mzML\"\n",
    "]"
   ]
  },
  {
   "cell_type": "markdown",
   "id": "c357ae94",
   "metadata": {},
   "source": [
    "Detect features in chromatograms. Alignstein uses Feature Finder algorithm from pyOpenMS in centroided mode. It may take some time and logging may be not fully visible in notebook."
   ]
  },
  {
   "cell_type": "code",
   "execution_count": null,
   "id": "e20ecc86",
   "metadata": {
    "ExecuteTime": {
     "end_time": "2022-05-23T15:55:50.153027Z",
     "start_time": "2022-05-23T15:55:50.000318Z"
    }
   },
   "outputs": [],
   "source": [
    "feature_sets_list = []\n",
    "for fname in filenames:\n",
    "    feature_sets_list.append(detect_features_from_file(fname))\n",
    "    # Generating features may took significant amount of memory not longer used\n",
    "    # It's better to clear cached objects before further run.\n",
    "    gc.collect()"
   ]
  },
  {
   "cell_type": "markdown",
   "id": "ac188d21",
   "metadata": {},
   "source": [
    "We scale features' RT by factor proportional (by `SCALE_FACTOR`) to ratio of everage feature width and length. Aim of this scaling is to obatin M/Z axis and RT axis at the same order of magnitude. Thus, further we won't use parameter maximum RT distance below which features are matched. Instead we will talk about maximum feature distance in both dimensions expressed in M/Z order of manitude (Daltons).\n",
    "\n",
    "We scale all datasets by the same factor. This results in different scaling of every dataset, but allows more precise matching."
   ]
  },
  {
   "cell_type": "code",
   "execution_count": null,
   "id": "2fb33634",
   "metadata": {
    "ExecuteTime": {
     "end_time": "2022-06-15T10:11:03.391072Z",
     "start_time": "2022-06-15T10:11:03.354966Z"
    }
   },
   "outputs": [],
   "source": [
    "# Scale by average weight\n",
    "SCALE_FACTOR = 5 # Something between 5 and 10 usually works fine but it highly\n",
    "                 # depends on properties of your dataset.\n",
    "\n",
    "weights = [features_to_weight(f_set) for f_set in feature_sets_list]\n",
    "average_weight = np.mean(weights)\n",
    "\n",
    "scale = average_weight * SCALE_FACTOR\n",
    "\n",
    "print(\"Weights:\", weights, \"\\n\", \"Average weight\", average_weight)\n",
    "\n",
    "for feature_set in feature_sets_list:\n",
    "    for feature in feature_set:\n",
    "        feature.scale_rt(scale)"
   ]
  },
  {
   "cell_type": "markdown",
   "id": "5b8bdf29",
   "metadata": {},
   "source": [
    "Start with the first phase - clustering. `gather_mids` function collects feature centroids to be further clustered, then centroid are clustered into several (8-16) areas of by `precluster_mids` function. Finally the main clustering is done by `big_clusters_to_clusters`. This two-step clustering is crucial for proper memory handling.\n",
    "\n",
    "`distance_threshold` parameters controls maximum distance of centroids in one cluster. It is expressed in M/Z order of magnitude (Daltons). The distance is expressed as $\\ell_1$ distance, so it should by about 2 times maximum M/Z variability (to incorporate variability of both M/Z and RT)."
   ]
  },
  {
   "cell_type": "code",
   "execution_count": null,
   "id": "c4f9e183",
   "metadata": {
    "ExecuteTime": {
     "end_time": "2022-06-15T10:11:08.936206Z",
     "start_time": "2022-06-15T10:11:08.897776Z"
    }
   },
   "outputs": [],
   "source": [
    "mids = gather_mids(feature_sets_list)\n",
    "gc.collect()\n",
    "big_clusters = precluster_mids(mids)\n",
    "\n",
    "clusters = big_clusters_to_clusters(mids, big_clusters, distance_threshold=0.4)"
   ]
  },
  {
   "cell_type": "markdown",
   "id": "af7d3f20",
   "metadata": {},
   "source": [
    "And finally we do the matching and consensus feature creation. It is done by `find_consensus_features` function. The most important parameters are:\n",
    "- `centroid_upper_bound` which controls the maximum centroid distance for which GWD is computed. For efficiency reasons should be reasonably small, but should not be singnificantly smaller than the maximum distance for which we want to match features;\n",
    "- `gwd_upper_bound` which controls is a parameter of GWD computing (aka. lambda parameter) and allows to omit transporting singal over distance equal to `gwd_upper_bound`. Should be big enough so that the most distant but matchable features are still comparable;\n",
    "- `matching_penalty` - which is penalty for feature not matching. Can be interpreted as maximum distance so that features still should be matched. Above this threshold features are considered as to distant to be matched.\n",
    "- `turns` - in one feature matching not all features may be matched, because features are limited to matched at most one to one cluster. Still, there can be more possible features to be matched which can be matched in next turns. Usually, 2-3 turns are enough, algorithm loops next turn iff there are features which can be matched.\n",
    "\n"
   ]
  },
  {
   "cell_type": "code",
   "execution_count": null,
   "id": "425b60ed",
   "metadata": {
    "ExecuteTime": {
     "end_time": "2022-06-15T10:11:11.820335Z",
     "start_time": "2022-06-15T10:11:11.715593Z"
    }
   },
   "outputs": [],
   "source": [
    "consensus_features = find_consensus_features(\n",
    "    clusters,\n",
    "    feature_sets_list,\n",
    "    centroid_upper_bound=15, gwd_upper_bound=15, matching_penalty=1, turns=10)"
   ]
  },
  {
   "cell_type": "markdown",
   "id": "1b2d7bd9",
   "metadata": {},
   "source": [
    "Finally dump obained consensus features to `consensus_fetures.out` file with regard to initial features locations."
   ]
  },
  {
   "cell_type": "code",
   "execution_count": null,
   "id": "a325d8a9",
   "metadata": {
    "ExecuteTime": {
     "end_time": "2022-05-23T17:54:48.237803Z",
     "start_time": "2022-05-23T17:54:48.176999Z"
    }
   },
   "outputs": [],
   "source": [
    "dump_consensus_features(consensus_features, \"consensus_fetures.out\",\n",
    "                        feature_sets_list)"
   ]
  },
  {
   "cell_type": "code",
   "execution_count": null,
   "id": "0c658227",
   "metadata": {},
   "outputs": [],
   "source": []
  }
 ],
 "metadata": {
  "kernelspec": {
   "display_name": "Python 3 (ipykernel)",
   "language": "python",
   "name": "python3"
  },
  "language_info": {
   "codemirror_mode": {
    "name": "ipython",
    "version": 3
   },
   "file_extension": ".py",
   "mimetype": "text/x-python",
   "name": "python",
   "nbconvert_exporter": "python",
   "pygments_lexer": "ipython3",
   "version": "3.9.10"
  }
 },
 "nbformat": 4,
 "nbformat_minor": 5
}
