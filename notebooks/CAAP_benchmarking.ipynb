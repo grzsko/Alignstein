{
 "cells": [
  {
   "cell_type": "code",
   "execution_count": null,
   "id": "889d238f",
   "metadata": {
    "ExecuteTime": {
     "end_time": "2022-06-15T11:41:47.062978Z",
     "start_time": "2022-06-15T11:41:47.005612Z"
    }
   },
   "outputs": [],
   "source": [
    "import gc\n",
    "from collections import namedtuple\n",
    "import xml.etree.ElementTree as ET\n",
    "\n",
    "import matplotlib.pyplot as plt\n",
    "import numpy as np\n",
    "\n",
    "%matplotlib notebook"
   ]
  },
  {
   "cell_type": "markdown",
   "id": "ea4db3e9",
   "metadata": {},
   "source": [
    "## Benchmarking on P1 and P2 sets\n",
    "\n",
    "Start from instrumenting us with functions for appropriate work with CAAP sets and scripts (linking Alingstein output with CAAP evaluation script input etc.)."
   ]
  },
  {
   "cell_type": "code",
   "execution_count": null,
   "id": "f71bb136",
   "metadata": {
    "ExecuteTime": {
     "end_time": "2022-06-15T11:55:27.878296Z",
     "start_time": "2022-06-15T11:55:27.836018Z"
    }
   },
   "outputs": [],
   "source": [
    "Feature = namedtuple('Feature', ['int', 'rt', \"mz\"])\n",
    "\n",
    "def parse_feature_xml(filename):\n",
    "    features = {}\n",
    "    tree = ET.parse(filename)\n",
    "    root = tree.getroot()\n",
    "    feature_list = root.find(\"./featureList\")\n",
    "    f_numb = int(feature_list.attrib[\"count\"])\n",
    "    for feature in feature_list.findall(\"./feature\"):\n",
    "        positions = {int(position.attrib[\"dim\"]):position.text for position in feature.findall(\"./position\")}\n",
    "        # Mapping with id will further work because features are numbered from 0\n",
    "        features[feature.attrib[\"id\"]] = Feature(\n",
    "            int(float(feature.find(\"./intensity\").text)),\n",
    "            # to avoid rounding problems, keep floats as str\n",
    "            positions[0], positions[1])\n",
    "    return f_numb, features\n",
    "    \n",
    "\n",
    "def dump_consensus_features_to_caap_file(\n",
    "    consensus_features, out_filename, chromatograms_sets_list, feature_filenames):\n",
    "    all_caap_features = []\n",
    "    for fname in feature_filenames:\n",
    "        _, caap_features = parse_feature_xml(fname)\n",
    "        all_caap_features.append(caap_features)\n",
    "    rows = []\n",
    "    with open(out_filename, \"w\") as outfile:\n",
    "        for consensus_feature in consensus_features:\n",
    "            if len(consensus_feature) > 1:\n",
    "                row = []\n",
    "                for set_i, chromatogram_j in consensus_feature:\n",
    "                    caap_id = chromatograms_sets_list[set_i][chromatogram_j].ext_id\n",
    "                    # Yeah, str below, one of many legacy...\n",
    "                    caap_feature = all_caap_features[set_i][str(caap_id)]\n",
    "                    row.extend([caap_feature.int, caap_feature.rt, caap_feature.mz])\n",
    "                rows.append(\" \".join(map(str, row)))\n",
    "        outfile.write(\"\\n\".join(rows))"
   ]
  },
  {
   "cell_type": "markdown",
   "id": "5b3d11c4",
   "metadata": {},
   "source": [
    "Start from downloading datasets from CAAP webpage: [https://msbi.ipb-halle.de/msbi/caap](https://msbi.ipb-halle.de/msbi/caap). Create `benchmark_datasets`, download data there and unpack them:\n",
    "\n",
    "```bash\n",
    "mkdir benchmark_datasets\n",
    "cd benchmark_datasets\n",
    "mkdir P1_set\n",
    "cd P1_set\n",
    "wget https://msbi.ipb-halle.de/download/P1_features.tar.gz\n",
    "tar xzf P1_features.tar.gz\n",
    "wget http://msbi.ipb-halle.de/download/P1-raw.tar.bz2\n",
    "tar xjf P1-raw.tar.bz2\n",
    "wget https://msbi.ipb-halle.de/download/P1_ground_truth.tar.gz\n",
    "tar xzf P1_ground_truth.tar.gz\n",
    "mkdir ../P2_set\n",
    "cd ../P2_set\n",
    "wget https://msbi.ipb-halle.de/download/P2_features.tar.gz\n",
    "tar xzf P2_features.tar.gz\n",
    "wget http://msbi.ipb-halle.de/download/P2-raw.tar.bz2\n",
    "tar xjf P2-raw.tar.bz2\n",
    "wget https://msbi.ipb-halle.de/download/P2_ground_truth.tar.gz\n",
    "tar xzf P2_ground_truth.tar.gz\n",
    "```\n",
    "Finally, download evaluation script:\n",
    "```bash\n",
    "wget https://msbi.ipb-halle.de/download/eval.R\n",
    "```\n",
    "\n",
    "Except for the P1 and P2 sets, the CAAP study consisted also of the analysis of two metabolomic (M1 and M2) datasets.\n",
    "We, omitted, however, reporting these datasets analysis. M2 dataset availability is currently limited and the M1 dataset has feature representation incompatible with Alignstein's features so the results would be inconclusive."
   ]
  },
  {
   "cell_type": "markdown",
   "id": "008ef30d",
   "metadata": {},
   "source": [
    "For every set, benchmarking is performed in separate salt bump. We prepared set of filenames for every set of data. Feel free to uncomment interesting part."
   ]
  },
  {
   "cell_type": "code",
   "execution_count": null,
   "id": "6c45e8c9",
   "metadata": {
    "ExecuteTime": {
     "end_time": "2022-06-15T11:56:03.899543Z",
     "start_time": "2022-06-15T11:56:03.887604Z"
    }
   },
   "outputs": [],
   "source": [
    "data_filenames = [\n",
    "    \"benchmark_datasets/P1_set/P1/021010_jp32A_15ul_1_000_ld_020.mzXML\",\n",
    "    \"benchmark_datasets/P1_set/P1/021016_jp32A_10ul_3_000_ld_020.mzXML\"]\n",
    "feature_filenames = [\n",
    "    \"benchmark_datasets/P1_set/P1_features/021010_jp32A_15ul_1_000_ld_020.featureXML\",\n",
    "    \"benchmark_datasets/P1_set/P1_features/021016_jp32A_10ul_3_000_ld_020.featureXML\"]\n",
    "gt_filename = \"benchmark_datasets/P1_set/P1_ground_truth/ground_truth_Ecoli_000_ld_020.dat\"\n",
    "\n",
    "# data_filenames = [\n",
    "#     \"benchmark_datasets/P1_set/P1/021010_jp32A_15ul_1_020_ld_040.mzXML\",\n",
    "#     \"benchmark_datasets/P1_set/P1/021016_jp32A_10ul_3_020_ld_040.mzXML\"]\n",
    "# feature_filenames = [\n",
    "#     \"benchmark_datasets/P1_set/P1_features/021010_jp32A_15ul_1_020_ld_040.featureXML\",\n",
    "#     \"benchmark_datasets/P1_set/P1_features/021016_jp32A_10ul_3_020_ld_040.featureXML\"]\n",
    "# gt_filename = \"benchmark_datasets/P1_set/P1_ground_truth/ground_truth_Ecoli_020_ld_040.dat\"\n",
    "\n",
    "# data_filenames = [\n",
    "#     \"benchmark_datasets/P1_set/P1/021010_jp32A_15ul_1_040_ld_060.mzXML\",\n",
    "#     \"benchmark_datasets/P1_set/P1/021016_jp32A_10ul_3_040_ld_060.mzXML\"]\n",
    "# feature_filenames = [\n",
    "#     \"benchmark_datasets/P1_set/P1_features/021010_jp32A_15ul_1_040_ld_060.featureXML\",\n",
    "#     \"benchmark_datasets/P1_set/P1_features/021016_jp32A_10ul_3_040_ld_060.featureXML\"]\n",
    "# gt_filename = \"benchmark_datasets/P1_set/P1_ground_truth/ground_truth_Ecoli_040_ld_060.dat\"\n",
    "\n",
    "# data_filenames = [\n",
    "#     \"benchmark_datasets/P1_set/P1/021010_jp32A_15ul_1_060_ld_080.mzXML\",\n",
    "#     \"benchmark_datasets/P1_set/P1/021016_jp32A_10ul_3_060_ld_080.mzXML\"]\n",
    "# feature_filenames = [\n",
    "#     \"benchmark_datasets/P1_set/P1_features/021010_jp32A_15ul_1_060_ld_080.featureXML\",\n",
    "#     \"benchmark_datasets/P1_set/P1_features/021016_jp32A_10ul_3_060_ld_080.featureXML\"]\n",
    "# gt_filename = \"benchmark_datasets/P1_set/P1_ground_truth/ground_truth_Ecoli_060_ld_080.dat\"\n",
    "\n",
    "# data_filenames = [\n",
    "#     \"benchmark_datasets/P1_set/P1/021010_jp32A_15ul_1_080_ld_100.mzXML\",\n",
    "#     \"benchmark_datasets/P1_set/P1/021016_jp32A_10ul_3_080_ld_100.mzXML\"]\n",
    "# feature_filenames = [\n",
    "#     \"benchmark_datasets/P1_set/P1_features/021010_jp32A_15ul_1_080_ld_100.featureXML\",\n",
    "#     \"benchmark_datasets/P1_set/P1_features/021016_jp32A_10ul_3_080_ld_100.featureXML\"]\n",
    "# gt_filename = \"benchmark_datasets/P1_set/P1_ground_truth/ground_truth_Ecoli_080_ld_100.dat\"\n",
    "\n",
    "# data_filenames = [\n",
    "#     \"benchmark_datasets/P1_set/P1/021010_jp32A_15ul_1_100_ld_150.mzXML\",\n",
    "#     \"benchmark_datasets/P1_set/P1/021016_jp32A_10ul_3_100_ld_150.mzXML\"]\n",
    "# feature_filenames = [\n",
    "#     \"benchmark_datasets/P1_set/P1_features/021010_jp32A_15ul_1_100_ld_150.featureXML\",\n",
    "#     \"benchmark_datasets/P1_set/P1_features/021016_jp32A_10ul_3_100_ld_150.featureXML\"]\n",
    "# gt_filename = \"benchmark_datasets/P1_set/P1_ground_truth/ground_truth_Ecoli_100_ld_150.dat\"\n",
    "\n",
    "# data_filenames = [\n",
    "#     \"benchmark_datasets/P2_set/P2/7-17-03_000.mzXML\",\n",
    "#     \"benchmark_datasets/P2_set/P2/6-17-03_000.mzXML\",\n",
    "#     \"benchmark_datasets/P2_set/P2/6-06-03_000.mzXML\"]\n",
    "# feature_filenames = [\n",
    "#     \"benchmark_datasets/P2_set/P2_features/7-17-03_000.featureXML\",\n",
    "#     \"benchmark_datasets/P2_set/P2_features/6-17-03_000.featureXML\",\n",
    "#     \"benchmark_datasets/P2_set/P2_features/6-06-03_000.featureXML\"]\n",
    "# gt_filename = \"benchmark_datasets/P2_set/P2_ground_truth/ground_truth_Msmeg_000.dat\"\n",
    "\n",
    "# data_filenames = [\n",
    "#     \"benchmark_datasets/P2_set/P2/7-17-03_020.mzXML\",\n",
    "#     \"benchmark_datasets/P2_set/P2/6-17-03_020.mzXML\",\n",
    "#     \"benchmark_datasets/P2_set/P2/6-06-03_020.mzXML\"]\n",
    "# feature_filenames = [\n",
    "#     \"benchmark_datasets/P2_set/P2_features/7-17-03_020.featureXML\",\n",
    "#     \"benchmark_datasets/P2_set/P2_features/6-17-03_020.featureXML\",\n",
    "#     \"benchmark_datasets/P2_set/P2_features/6-06-03_020.featureXML\"]\n",
    "# gt_filename = \"benchmark_datasets/P2_set/P2_ground_truth/ground_truth_Msmeg_020.dat\"\n",
    "\n",
    "# data_filenames = [\n",
    "#     \"benchmark_datasets/P2_set/P2/6-06-03_040.mzXML\",\n",
    "#     \"benchmark_datasets/P2_set/P2/6-17-03_040.mzXML\",\n",
    "#     \"benchmark_datasets/P2_set/P2/7-17-03_040.mzXML\"]\n",
    "# feature_filenames = [\n",
    "#     \"benchmark_datasets/P2_set/P2_features/6-06-03_040.featureXML\",\n",
    "#     \"benchmark_datasets/P2_set/P2_features/6-17-03_040.featureXML\",\n",
    "#     \"benchmark_datasets/P2_set/P2_features/7-17-03_040.featureXML\"]\n",
    "# gt_filename = \"benchmark_datasets/P2_set/P2_ground_truth/ground_truth_Msmeg_040.dat\"\n",
    "\n",
    "# data_filenames = [\n",
    "#     \"benchmark_datasets/P2_set/P2/6-06-03_080.mzXML\",\n",
    "#     \"benchmark_datasets/P2_set/P2/6-17-03_080.mzXML\",\n",
    "#     \"benchmark_datasets/P2_set/P2/7-17-03_080.mzXML\"]\n",
    "# feature_filenames = [\n",
    "#     \"benchmark_datasets/P2_set/P2_features/6-06-03_080.featureXML\",\n",
    "#     \"benchmark_datasets/P2_set/P2_features/6-17-03_080.featureXML\",\n",
    "#     \"benchmark_datasets/P2_set/P2_features/7-17-03_080.featureXML\"]\n",
    "# gt_filename = \"benchmark_datasets/P2_set/P2_ground_truth/ground_truth_Msmeg_080.dat\"\n",
    "\n",
    "# data_filenames = [\n",
    "#     \"benchmark_datasets/P2_set/P2/6-06-03_100.mzXML\",\n",
    "#     \"benchmark_datasets/P2_set/P2/6-17-03_100.mzXML\",\n",
    "#     \"benchmark_datasets/P2_set/P2/7-17-03_100.mzXML\"]\n",
    "# feature_filenames = [\n",
    "#     \"benchmark_datasets/P2_set/P2_features/7-17-03_100.featureXML\",\n",
    "#     \"benchmark_datasets/P2_set/P2_features/6-17-03_100.featureXML\",\n",
    "#     \"benchmark_datasets/P2_set/P2_features/6-06-03_100.featureXML\"]\n",
    "# gt_filename = \"benchmark_datasets/P2_set/P2_ground_truth/ground_truth_Msmeg_100.dat\""
   ]
  },
  {
   "cell_type": "markdown",
   "id": "2ab7bada",
   "metadata": {},
   "source": [
    "Parse feature file, detect feature signal in raw chromatograms."
   ]
  },
  {
   "cell_type": "code",
   "execution_count": null,
   "id": "21cc36d8",
   "metadata": {
    "ExecuteTime": {
     "end_time": "2022-06-15T11:57:02.692330Z",
     "start_time": "2022-06-15T11:56:59.731251Z"
    }
   },
   "outputs": [],
   "source": [
    "# Feature parsing and detection\n",
    "from Alignstein import (parse_chromatogram_with_detected_features,\n",
    "                        features_to_weight)\n",
    "\n",
    "feature_sets_list = [\n",
    "    parse_chromatogram_with_detected_features(ch_fname, fs_fname)\n",
    "        for ch_fname, fs_fname in zip(data_filenames, feature_filenames)]"
   ]
  },
  {
   "cell_type": "code",
   "execution_count": null,
   "id": "98e599bf",
   "metadata": {
    "ExecuteTime": {
     "end_time": "2022-06-15T11:57:45.034726Z",
     "start_time": "2022-06-15T11:57:44.999842Z"
    }
   },
   "outputs": [],
   "source": [
    "# Scale by average weight\n",
    "SCALE_FACTOR = 10 # value chosen as explained in tutorial\n",
    "\n",
    "weights = [features_to_weight(f_set) for f_set in feature_sets_list]\n",
    "average_weight = np.mean(weights)\n",
    "\n",
    "print(\"Weights:\", weights, \"\\n\", \"Average weight\", average_weight)\n",
    "\n",
    "for feature_set in feature_sets_list:\n",
    "    for feature in feature_set:\n",
    "        feature.scale_rt(average_weight * SCALE_FACTOR)"
   ]
  },
  {
   "cell_type": "code",
   "execution_count": null,
   "id": "c37a1f70",
   "metadata": {
    "ExecuteTime": {
     "end_time": "2022-06-15T11:58:23.409654Z",
     "start_time": "2022-06-15T11:58:23.273368Z"
    }
   },
   "outputs": [],
   "source": [
    "# Load ground-truth\n",
    "\n",
    "gts = set()\n",
    "with open(gt_filename, \"r\") as infile:\n",
    "    for line in infile:\n",
    "        line = line.strip().split(\" \")\n",
    "        if len(line) > 10:\n",
    "            gts.add(((line[2], line[3], line[4]), (line[7], line[8], line[9]), (line[7+5], line[8+5], line[9+5])))\n",
    "        else:\n",
    "            gts.add(((line[2], line[3], line[4]), (line[7], line[8], line[9])))"
   ]
  },
  {
   "cell_type": "markdown",
   "id": "a39cf1af",
   "metadata": {},
   "source": [
    "Originally, in the CAAP study, only a fraction of all detected features were aligned. The evaluation protocol lacks, however, a detailed description of initial feature filtering for further alignment. Thus, we decided to filter features to those existing in ground-truth analogously as reported in Wandy et al. [1]."
   ]
  },
  {
   "cell_type": "code",
   "execution_count": null,
   "id": "5fdbae27",
   "metadata": {
    "ExecuteTime": {
     "end_time": "2022-06-15T12:37:34.132817Z",
     "start_time": "2022-06-15T12:37:34.033688Z"
    }
   },
   "outputs": [],
   "source": [
    "feature_sets_list_old = feature_sets_list\n",
    "\n",
    "selected_features = {t[0] for t in gts}.union({t[1] for t in gts}).union({t[2] for t in gts if len(t) > 2})\n",
    "selected_feature_sets_list = []\n",
    "\n",
    "for i, feature_set in enumerate(feature_sets_list):\n",
    "    _, caap_features = parse_feature_xml(feature_filenames[i])\n",
    "    selected_f_set = []\n",
    "    for ch in feature_set:\n",
    "        caap_id = ch.ext_id\n",
    "        caap_feature = caap_features[str(caap_id)] # It works because caap features are enumerated from 0.\n",
    "        t = (str(float(caap_feature.int)), caap_feature.rt, caap_feature.mz)\n",
    "        if t in selected_features:\n",
    "            selected_f_set.append(ch)\n",
    "    selected_feature_sets_list.append(selected_f_set)\n",
    "\n",
    "feature_sets_list = selected_feature_sets_list"
   ]
  },
  {
   "cell_type": "markdown",
   "id": "758eba01",
   "metadata": {},
   "source": [
    "Do the alignment, after importing Alingstein's functions, first cell contains alignment for P1 (pairwise), next cell contain alignment for P2 (multialignment)."
   ]
  },
  {
   "cell_type": "code",
   "execution_count": null,
   "id": "2385b540",
   "metadata": {
    "ExecuteTime": {
     "end_time": "2022-06-15T12:07:34.740312Z",
     "start_time": "2022-06-15T12:07:34.726783Z"
    }
   },
   "outputs": [],
   "source": [
    "from Alignstein import (gather_mids, precluster_mids, big_clusters_to_clusters,\n",
    "                        find_consensus_features,\n",
    "                        find_pairwise_consensus_features)"
   ]
  },
  {
   "cell_type": "code",
   "execution_count": null,
   "id": "a1c4e98c",
   "metadata": {
    "ExecuteTime": {
     "end_time": "2022-06-15T12:09:25.563174Z",
     "start_time": "2022-06-15T12:09:25.517177Z"
    }
   },
   "outputs": [],
   "source": [
    "# Pairwise alignment (P1 example)\n",
    "\n",
    "consensus_features, matched_all_sets = find_pairwise_consensus_features(\n",
    "    *feature_sets_list, centroid_upper_bound=20, gwd_upper_bound=20,\n",
    "    matching_penalty=10)\n",
    "\n",
    "dump_consensus_features_to_caap_file(\n",
    "    consensus_features,\n",
    "    \"examples/LCMS_data/benchmark_datasets/P1_set/alignstein.out\",\n",
    "    feature_sets_list, feature_filenames)"
   ]
  },
  {
   "cell_type": "code",
   "execution_count": null,
   "id": "01b5ce7d",
   "metadata": {
    "ExecuteTime": {
     "end_time": "2022-06-15T12:09:27.941740Z",
     "start_time": "2022-06-15T12:09:27.915522Z"
    }
   },
   "outputs": [],
   "source": [
    "# Multialignment (P2 example)\n",
    "mids = gather_mids(feature_sets_list)\n",
    "gc.collect()\n",
    "big_clusters = precluster_mids(mids)\n",
    "\n",
    "# Distance threshold for clusters should be about 2 x max M/Z difference    \n",
    "clusters = big_clusters_to_clusters(mids, big_clusters,\n",
    "                                    distance_threshold=1.5)\n",
    "\n",
    "consensus_features = find_consensus_features(\n",
    "    clusters, feature_sets_list,\n",
    "    centroid_upper_bound=10, gwd_upper_bound=10,\n",
    "    matching_penalty=10)\n",
    "\n",
    "dump_consensus_features_to_caap_file(\n",
    "    consensus_features,\n",
    "    \"examples/LCMS_data/benchmark_datasets/P2_set/alignstein.out\",\n",
    "    feature_sets_list, feature_filenames)"
   ]
  },
  {
   "cell_type": "markdown",
   "id": "0ca8d539",
   "metadata": {},
   "source": [
    "For next part contains analysis of `alignstein.out` file by evaluation script provided by authors of CAAP study. Goto `benchmark_datasets` directory, open R console and type:\n",
    "```R\n",
    "gt <- 'P1_set/P1_ground_truth/ground_truth_Ecoli_000_ld_020.dat' # Replace with appropriate GT filename\n",
    "tool <- 'alignstein.out'\n",
    "eval(gt, tool)\n",
    "```"
   ]
  },
  {
   "cell_type": "markdown",
   "id": "94af6587",
   "metadata": {},
   "source": [
    "## Additional comments\n",
    "### Additional comments to CAAP evaluation results\n",
    "OpenMS alignment algorithm performed best in the CAAP study. Originally, the authors of this study evaluated the OpenMS version 1.0. Its alignment algorithm was reimplemented in 2012 and the previous version is no longer bundled with the OpenMS package. We reproduced the evaluation of the CAAP study on the current version of OpenMS. Unfortunately, the current alignment algorithm is achieving significantly worse results despite strenuous attempts to adjust the algorithm parameters to the data. Its alignment precision and recall are on average 60 percentage points lower than the results reported in the CAAP study.\n",
    "\n",
    "The majority of alignment algorithms are not compared with any tool [2]. This results in difficulties in broad comparing Alignstein with the majority of algorithms. Thus, there is a constant need for dedicated LC-MS alignment assessment of currently being state-of-the-art alignment software that not only complements CAAP with other datasets but also selects the best currently available alignment algorithm.\n",
    "To the best of the authors’ knowledge, CAAP is the only assessment of LC-MS alignment algorithms done on real datasets and thus it is widely used for validation.\n",
    "The limited availability of benchmark datasets may result in a growing tendency to analyze algorithms only on data from CAAP work and, therefore, to overfit to this dataset."
   ]
  },
  {
   "cell_type": "markdown",
   "id": "f9a99c8a",
   "metadata": {},
   "source": [
    "## References:\n",
    "[1] Joe Wandy, Rónán Daly, Rainer Breitling, Simon Rogers, Incorporating peak grouping information for alignment of multiple liquid chromatography-mass spectrometry datasets, Bioinformatics, Volume 31, Issue 12, 15 June 2015, Pages 1999–2006, https://doi.org/10.1093/bioinformatics/btv072\n",
    "\n",
    "[2] Robert Smith, Dan Ventura, John T. Prince, Novel algorithms and the benefits of comparative validation, Bioinformatics, Volume 29, Issue 12, 15 June 2013, Pages 1583–1585, https://doi.org/10.1093/bioinformatics/btt176"
   ]
  }
 ],
 "metadata": {
  "kernelspec": {
   "display_name": "Python 3 (ipykernel)",
   "language": "python",
   "name": "python3"
  },
  "language_info": {
   "codemirror_mode": {
    "name": "ipython",
    "version": 3
   },
   "file_extension": ".py",
   "mimetype": "text/x-python",
   "name": "python",
   "nbconvert_exporter": "python",
   "pygments_lexer": "ipython3",
   "version": "3.9.10"
  }
 },
 "nbformat": 4,
 "nbformat_minor": 5
}
